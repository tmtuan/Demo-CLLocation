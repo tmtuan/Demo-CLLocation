{
  "nbformat": 4,
  "nbformat_minor": 0,
  "metadata": {
    "colab": {
      "name": "Copy of emnist.ipynb",
      "version": "0.3.2",
      "provenance": [],
      "collapsed_sections": [],
      "include_colab_link": true
    },
    "kernelspec": {
      "name": "python3",
      "display_name": "Python 3"
    }
  },
  "cells": [
    {
      "cell_type": "markdown",
      "metadata": {
        "id": "view-in-github",
        "colab_type": "text"
      },
      "source": [
        "<a href=\"https://colab.research.google.com/github/tmtuan/Demo-CLLocation/blob/master/Copy_of_emnist.ipynb\" target=\"_parent\"><img src=\"https://colab.research.google.com/assets/colab-badge.svg\" alt=\"Open In Colab\"/></a>"
      ]
    },
    {
      "cell_type": "code",
      "metadata": {
        "id": "J3tAZAQLT0K-",
        "colab_type": "code",
        "outputId": "f1a07566-1a5f-48f7-9fe5-744d6bb0cdce",
        "colab": {
          "base_uri": "https://localhost:8080/",
          "height": 228
        }
      },
      "source": [
        "# Install emnist library \n",
        "# Please visit https://pypi.org/project/emnist/ \n",
        "!pip install emnist"
      ],
      "execution_count": 1,
      "outputs": [
        {
          "output_type": "stream",
          "text": [
            "Collecting emnist\n",
            "  Downloading https://files.pythonhosted.org/packages/d1/f4/78b24acbef9e8fe976dda700f16a3606f3b8363b015bc555f8050fbbd8ac/emnist-0.0-py3-none-any.whl\n",
            "Requirement already satisfied: tqdm in /usr/local/lib/python3.6/dist-packages (from emnist) (4.28.1)\n",
            "Requirement already satisfied: numpy in /usr/local/lib/python3.6/dist-packages (from emnist) (1.16.4)\n",
            "Requirement already satisfied: requests in /usr/local/lib/python3.6/dist-packages (from emnist) (2.21.0)\n",
            "Requirement already satisfied: certifi>=2017.4.17 in /usr/local/lib/python3.6/dist-packages (from requests->emnist) (2019.6.16)\n",
            "Requirement already satisfied: urllib3<1.25,>=1.21.1 in /usr/local/lib/python3.6/dist-packages (from requests->emnist) (1.24.3)\n",
            "Requirement already satisfied: idna<2.9,>=2.5 in /usr/local/lib/python3.6/dist-packages (from requests->emnist) (2.8)\n",
            "Requirement already satisfied: chardet<3.1.0,>=3.0.2 in /usr/local/lib/python3.6/dist-packages (from requests->emnist) (3.0.4)\n",
            "Installing collected packages: emnist\n",
            "Successfully installed emnist-0.0\n"
          ],
          "name": "stdout"
        }
      ]
    },
    {
      "cell_type": "code",
      "metadata": {
        "id": "feeb88HIPfh0",
        "colab_type": "code",
        "outputId": "3c6d12c2-552d-4d81-d231-e87b41dc02b1",
        "colab": {
          "base_uri": "https://localhost:8080/",
          "height": 104
        }
      },
      "source": [
        "# Read training data\n",
        "from emnist import extract_training_samples\n",
        "from emnist import extract_test_samples\n",
        "trainX, trainY = extract_training_samples('letters')\n",
        "testX, testY = extract_test_samples('letters')\n",
        "n_train_samples = len(trainY)\n",
        "n_test_samples = len(testY)\n",
        "print('Number of training datapoints: %s\\n' % n_train_samples)\n",
        "print('Number of test datapoints: %s\\n' % n_test_samples)"
      ],
      "execution_count": 2,
      "outputs": [
        {
          "output_type": "stream",
          "text": [
            "Downloading emnist.zip: 536MB [00:04, 129MB/s]\n"
          ],
          "name": "stderr"
        },
        {
          "output_type": "stream",
          "text": [
            "Number of training datapoints: 124800\n",
            "\n",
            "Number of test datapoints: 20800\n",
            "\n"
          ],
          "name": "stdout"
        }
      ]
    },
    {
      "cell_type": "code",
      "metadata": {
        "id": "2GaYU8dXV8q4",
        "colab_type": "code",
        "outputId": "60e4e3af-1c0f-4e03-d2c6-eb776b8c7073",
        "colab": {
          "base_uri": "https://localhost:8080/",
          "height": 281
        }
      },
      "source": [
        "# Plot some samples from the dataset\n",
        "import matplotlib.pyplot as plt\n",
        "\n",
        "# Mapping labels to letters\n",
        "def uppercase_mapping(label):\n",
        "    return chr(label + 64)\n",
        "def lowercase_mapping(label):\n",
        "    return chr(label + 96)\n",
        "  \n",
        "# plot the first 4 letters samples\n",
        "fig, axs = plt.subplots(2, 2)\n",
        "axs[0, 0].set_title(uppercase_mapping(trainY[0]) + lowercase_mapping(trainY[0]))\n",
        "axs[0, 0].imshow(trainX[0], cmap=plt.get_cmap('gray'))\n",
        "\n",
        "axs[0, 1].set_title(uppercase_mapping(trainY[1]) + lowercase_mapping(trainY[1]))\n",
        "axs[0, 1].imshow(trainX[1], cmap=plt.get_cmap('gray'))\n",
        "\n",
        "axs[1, 0].set_title(uppercase_mapping(trainY[2]) + lowercase_mapping(trainY[2]))\n",
        "axs[1, 0].imshow(trainX[2], cmap=plt.get_cmap('gray'))\n",
        "\n",
        "axs[1, 1].set_title(uppercase_mapping(trainY[3]) + lowercase_mapping(trainY[3]))\n",
        "axs[1, 1].imshow(trainX[3], cmap=plt.get_cmap('gray'))\n",
        "plt.show()"
      ],
      "execution_count": 3,
      "outputs": [
        {
          "output_type": "display_data",
          "data": {
            "image/png": "[encoded data removed]",
            "text/plain": [
              "<Figure size 432x288 with 4 Axes>"
            ]
          },
          "metadata": {
            "tags": []
          }
        }
      ]
    },
    {
      "cell_type": "code",
      "metadata": {
        "id": "Q3QBZHhEVQNc",
        "colab_type": "code",
        "colab": {}
      },
      "source": [
        "# Pre-processing dataset\n",
        "# Convert feature record shape from 2d matrix (28 x 28) to vector (1, 784)\n",
        "trainX = trainX.reshape((n_train_samples, -1))\n",
        "testX = testX.reshape((n_test_samples, -1))"
      ],
      "execution_count": 0,
      "outputs": []
    },
    {
      "cell_type": "code",
      "metadata": {
        "id": "AHEIiuXKZ5Z6",
        "colab_type": "code",
        "outputId": "4c19975f-9792-4519-f69b-e8f4ad894c24",
        "colab": {
          "base_uri": "https://localhost:8080/",
          "height": 69
        }
      },
      "source": [
        "#MAIN PART: Build your prediction model\n",
        "### Example: building the model using Support Vector Machine\n",
        "from sklearn import svm\n",
        "svmclassifier = svm.SVC(kernel='linear', C=0.01)\n",
        "# Training the model\n",
        "print(\"Training the SVM model...\")\n",
        "svmclassifier.fit(trainX[:n_train_samples // 10], trainY[:n_train_samples // 10])\n",
        "print(\"Done.\\n\")"
      ],
      "execution_count": 5,
      "outputs": [
        {
          "output_type": "stream",
          "text": [
            "Training the SVM model...\n",
            "Done.\n",
            "\n"
          ],
          "name": "stdout"
        }
      ]
    },
    {
      "cell_type": "code",
      "metadata": {
        "id": "AEv-cgmqJrMT",
        "colab_type": "code",
        "outputId": "062b2823-3f63-4083-ba9b-b90afd1f7c48",
        "colab": {
          "base_uri": "https://localhost:8080/",
          "height": 69
        }
      },
      "source": [
        "# Make prediction\n",
        "print(\"Testing the model...\")\n",
        "predictedY = svmclassifier.predict(testX)\n",
        "print(\"Done.\\n\")"
      ],
      "execution_count": 6,
      "outputs": [
        {
          "output_type": "stream",
          "text": [
            "Testing the model...\n",
            "Done.\n",
            "\n"
          ],
          "name": "stdout"
        }
      ]
    },
    {
      "cell_type": "code",
      "metadata": {
        "id": "WNSbYd6Kb8p4",
        "colab_type": "code",
        "outputId": "1ad311a2-ba0d-44bd-f6c1-c788a5eaf672",
        "colab": {
          "base_uri": "https://localhost:8080/",
          "height": 35
        }
      },
      "source": [
        "# Accuracy\n",
        "from sklearn.metrics import precision_score\n",
        "from sklearn.metrics import recall_score\n",
        "\n",
        "## Calculate the accuracy of the model\n",
        "precision = precision_score(testY, predictedY, average='weighted')\n",
        "recall = recall_score(testY, predictedY, average='weighted')\n",
        "f1 = 2 * (precision * recall) / (precision + recall)\n",
        "\n",
        "## Show the accuracy\n",
        "print('Accuracy score: {0:0.2f}%'.format(recall * 100))\n"
      ],
      "execution_count": 7,
      "outputs": [
        {
          "output_type": "stream",
          "text": [
            "Accuracy score: 71.01%\n"
          ],
          "name": "stdout"
        }
      ]
    }
  ]
}