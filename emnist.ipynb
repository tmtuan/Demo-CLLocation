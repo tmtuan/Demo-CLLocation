{
  "nbformat": 4,
  "nbformat_minor": 0,
  "metadata": {
    "colab": {
      "name": "Copy of emnist.ipynb",
      "version": "0.3.2",
      "provenance": [],
      "include_colab_link": true
    },
    "kernelspec": {
      "name": "python3",
      "display_name": "Python 3"
    }
  },
  "cells": [
    {
      "cell_type": "markdown",
      "metadata": {
        "id": "view-in-github",
        "colab_type": "text"
      },
      "source": [
        "<a href=\"https://colab.research.google.com/github/tmtuan/Demo-CLLocation/blob/master/emnist.ipynb\" target=\"_parent\"><img src=\"https://colab.research.google.com/assets/colab-badge.svg\" alt=\"Open In Colab\"/></a>"
      ]
    },
    {
      "cell_type": "code",
      "metadata": {
        "id": "J3tAZAQLT0K-",
        "colab_type": "code",
        "colab": {}
      },
      "source": [
        "# Install emnist library \n",
        "# Please visit https://pypi.org/project/emnist/ \n",
        "!pip install emnist"
      ],
      "execution_count": 0,
      "outputs": []
    },
    {
      "cell_type": "code",
      "metadata": {
        "id": "feeb88HIPfh0",
        "colab_type": "code",
        "colab": {}
      },
      "source": [
        "# Read training data\n",
        "from emnist import extract_training_samples\n",
        "from emnist import extract_test_samples\n",
        "trainX, trainY = extract_training_samples('letters')\n",
        "testX, testY = extract_test_samples('letters')"
      ],
      "execution_count": 0,
      "outputs": []
    },
    {
      "cell_type": "code",
      "metadata": {
        "id": "lG-lA5voTWCe",
        "colab_type": "code",
        "colab": {}
      },
      "source": [
        "n_train_samples = len(trainY)\n",
        "n_test_samples = len(testY)\n",
        "print('Number of training datapoints: %s\\n' % n_train_samples)\n",
        "print('Number of test datapoints: %s\\n' % n_test_samples)"
      ],
      "execution_count": 0,
      "outputs": []
    },
    {
      "cell_type": "code",
      "metadata": {
        "id": "2GaYU8dXV8q4",
        "colab_type": "code",
        "colab": {}
      },
      "source": [
        "# Plot data\n",
        "import matplotlib.pyplot as plt\n",
        "\n",
        "# Mapping labels to letters\n",
        "def uppercase_mapping(label):\n",
        "    return chr(label + 64)\n",
        "\n",
        "def lowercase_mapping(label):\n",
        "    return chr(label + 96)\n",
        "  \n",
        "# plot the first 4 letters samples\n",
        "fig, axs = plt.subplots(2, 2)\n",
        "axs[0, 0].set_title(uppercase_mapping(trainY[0]) + lowercase_mapping(trainY[0]))\n",
        "axs[0, 0].imshow(trainX[0], cmap=plt.get_cmap('gray'))\n",
        "\n",
        "axs[0, 1].set_title(uppercase_mapping(trainY[1]) + lowercase_mapping(trainY[1]))\n",
        "axs[0, 1].imshow(trainX[1], cmap=plt.get_cmap('gray'))\n",
        "\n",
        "axs[1, 0].set_title(uppercase_mapping(trainY[2]) + lowercase_mapping(trainY[2]))\n",
        "axs[1, 0].imshow(trainX[2], cmap=plt.get_cmap('gray'))\n",
        "\n",
        "axs[1, 1].set_title(uppercase_mapping(trainY[3]) + lowercase_mapping(trainY[3]))\n",
        "axs[1, 1].imshow(trainX[3], cmap=plt.get_cmap('gray'))\n",
        "plt.show()"
      ],
      "execution_count": 0,
      "outputs": []
    },
    {
      "cell_type": "code",
      "metadata": {
        "id": "Q3QBZHhEVQNc",
        "colab_type": "code",
        "colab": {}
      },
      "source": [
        "# Pre-processing dataset\n",
        "# Convert feature record shape from 2d matrix (28 x 28) to vector (1, 784)\n",
        "trainX = trainX.reshape((n_train_samples, -1))\n",
        "testX = testX.reshape((n_test_samples, -1))"
      ],
      "execution_count": 0,
      "outputs": []
    },
    {
      "cell_type": "code",
      "metadata": {
        "id": "AHEIiuXKZ5Z6",
        "colab_type": "code",
        "colab": {}
      },
      "source": [
        "### MAIN PART: Build your prediction model\n",
        "### Example: building the model using Support Vector Machine\n",
        "from sklearn import svm\n",
        "svmclassifier = svm.SVC(kernel='linear', C=0.01)\n",
        "# Training the model\n",
        "print(\"Training the SVM model...\")\n",
        "svmclassifier.fit(trainX[:n_train_samples // 10], trainY[:n_train_samples // 10])\n",
        "print(\"Done.\\n\")\n",
        "\n",
        "# Make prediction\n",
        "ground_truth = testY\n",
        "print(\"Testing the model...\")\n",
        "predicted = svmclassifier.predict(testX)\n",
        "print(\"Done.\\n\")"
      ],
      "execution_count": 0,
      "outputs": []
    },
    {
      "cell_type": "code",
      "metadata": {
        "id": "WNSbYd6Kb8p4",
        "colab_type": "code",
        "colab": {}
      },
      "source": [
        "# Calculate accuracy\n",
        "from sklearn import metrics\n",
        "print('Classification report for SVM Classifier %s:\\n%s\\n' %\n",
        "      (svmclassifier, metrics.classification_report(ground_truth, predicted)))\n"
      ],
      "execution_count": 0,
      "outputs": []
    }
  ]
}